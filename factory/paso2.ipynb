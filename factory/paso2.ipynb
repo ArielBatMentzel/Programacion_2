{
 "cells": [
  {
   "cell_type": "markdown",
   "id": "a397114c",
   "metadata": {},
   "source": [
    "Aquí tenés un resumen serio y breve para la presentación del **Paso 2 (Abstract Factory)**:\n",
    "\n",
    "---\n",
    "\n",
    "## Paso 2: Extender el Patrón Abstract Factory\n",
    "\n",
    "### Objetivo\n",
    "\n",
    "Agregar soporte para nuevas pizzas (`VeggiePizza` y `PepperoniPizza`) usando **Abstract Factory**, asegurando que cada pizza utilice ingredientes consistentes con su región (NY o Chicago).\n",
    "\n",
    "### Decisiones de diseño\n",
    "\n",
    "* Se crean nuevas clases de ingredientes concretos (`Onion`, `Mushroom`, `SlicedPepperoni`, etc.) dentro de `ingredients.py`.\n",
    "* Se agregan métodos abstractos a `PizzaIngredientFactory` para crear los nuevos tipos de ingredientes (`create_veggies()`, `create_pepperoni()`).\n",
    "* Cada fábrica concreta (`NYPizzaIngredientFactory` y `ChicagoPizzaIngredientFactory`) implementa estos métodos devolviendo los ingredientes correspondientes a su región.\n",
    "* Las nuevas pizzas (`VeggiePizza`, `PepperoniPizza`) reciben una fábrica de ingredientes en el constructor y obtienen los ingredientes a través de ella en su método `prepare()`.\n",
    "* Las tiendas (`NYPizzaStore`, `ChicagoPizzaStore`) actualizan su método `create_pizza` para soportar los nuevos tipos de pizza.\n",
    "\n",
    "### Beneficios\n",
    "\n",
    "* Las pizzas están desacopladas de los ingredientes concretos, cumpliendo **DIP**.\n",
    "* Cada región mantiene su consistencia de ingredientes.\n",
    "* Fácil de extender: agregar nuevas pizzas o regiones no requiere modificar las clases existentes, cumpliendo **OCP**.\n",
    "\n",
    "### Comportamiento comprobado\n",
    "\n",
    "* NY y Chicago pueden producir `Cheese`, `Clam`, `Veggie` y `Pepperoni` pizzas.\n",
    "* Cada pizza imprime sus ingredientes específicos al prepararse, confirmando que la **Abstract Factory** funciona correctamente.\n",
    "\n",
    "---\n",
    "\n",
    "Si querés, puedo hacer también una **versión ultra resumida en un slide** lista para exponer. ¿Querés que haga eso?\n"
   ]
  }
 ],
 "metadata": {
  "language_info": {
   "name": "python"
  }
 },
 "nbformat": 4,
 "nbformat_minor": 5
}
